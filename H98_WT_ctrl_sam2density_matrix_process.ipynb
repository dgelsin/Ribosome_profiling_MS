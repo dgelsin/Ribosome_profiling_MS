{
 "cells": [
  {
   "cell_type": "code",
   "execution_count": 1,
   "metadata": {},
   "outputs": [],
   "source": [
    "%load_ext autoreload\n",
    "%autoreload 2\n",
    "import ribo_util\n",
    "import ribo_main\n",
    "import ribo_analysis\n",
    "import ribo_plot\n",
    "\n",
    "\n",
    "\n",
    "'''Settings and Inputs'''\n",
    "\n",
    "library_creator = 'DG'        #FM, KS, CW, Menkin, Li, etc... (initial of who made it)\n",
    "organism        = 'Volcanii'      #Coli, Subtilis, Tuberculosis etc...\n",
    "\n",
    "inputs = {\n",
    "    \n",
    "    'files' : [library_creator + str(i) for i in range(1, 2)],       #Files to analyze\n",
    "    # for data renaming: useful to rename files from seq_facility - can be ignored\n",
    "    'order_name' : 'none',    # to rename/concat FASTQ if needed, else set to 'none' or ignore\n",
    "    \n",
    "    # select which functions to run: 'yes' and 'no' \n",
    "    'run_filtering': 'no',\n",
    "    'run_bowtie'   : 'no',\n",
    "    'run_density'  : 'yes',\n",
    "    'run_readQC'   : 'no',\n",
    "    \n",
    "    # cuttoff for readsize and quality for filtering and density\n",
    "    'minlength'    : 10,\n",
    "    'maxlength'    : 40,\n",
    "    'phred_cutoff' : 10,\n",
    "                        \n",
    "    # linker-1 for FM = CTGTAGGCACCATCAATAGATCGGAAGAGCACACGTCTGAACTCCAGTCA\n",
    "    # for SM          = CTGTAGGCACCATCAATTCGTATGCCGTCTTCTGCTTG\n",
    "    # Gross           = CTGTAGGCACCATCAATATCTCGTATGCCGTCTTCTGCTTG\n",
    "    # Zoya            = ATCTCGTATGCCGTCTTCTGCTTG\n",
    "    'linker'       :   'CTGTAGGCACCATCAATAGATCGGAAGAGCACACGTCTGAACTCCAGTCA',\n",
    "                      \n",
    "    \n",
    "    # CPU information for multithreading applications, \n",
    "    'multiprocess' : 'yes',\n",
    "    'threads'      : 8,\n",
    "    'cores'        : 4, \n",
    "    \n",
    "    }\n",
    "\n",
    "'''Input directories'''\n",
    "# Can be customized to your liking \n",
    "\n",
    "path_pc     = '/Volumes/Diego_2TB/ribosome_profiling_final_libs/libraries/H98_WT_ctrl/'\n",
    "inpath      = path_pc + 'reads/'\n",
    "path_script = '/Users/DRG/Desktop/ribosome_profiling_first_library/2nd_libraries/leucine_analysis/scripts/'\n",
    "\n",
    "paths_in = {\n",
    "    'fastq_download' : inpath  + 'FASTQ/downloaded/',\n",
    "    'path_fastq'     : inpath  + 'FASTQ/' + library_creator + '/',\n",
    "    'path_gff'       : path_pc + 'annotations/'+organism+'/'+organism+'.gff',\n",
    "    'path_gff_dict'  : path_pc + 'annotations/'+organism+'/'+organism+'_dict_for_pause',   #will be made from GFF\n",
    "    'path_bowtie'    : path_script + 'bowtie/bowtie',\n",
    "    #'btindex_ladder' : path_script + 'bowtie/indexes/ladder/ladder',\n",
    "    #'btindex_trna'   : path_script + 'bowtie/indexes/'+organism+'/'+organism+'_tRNA',\n",
    "    'btindex_rrna'   : path_script + 'bowtie/indexes/'+organism+'/'+organism+'_rRNA',\n",
    "    'btindex_chr'    : path_script + 'bowtie/indexes/'+organism+'/'+organism+'_genome',\n",
    "    }\n",
    "\n",
    "\n",
    "### Output directories\n",
    "paths_out = {\n",
    "    'path_filter'       : inpath  + 'density/filtering_bowtie/filterdata/',\n",
    "    #'path_ladder'       : inpath  + 'density/filtering_bowtie/alignments/ladder/',\n",
    "    #'path_trna'         : inpath  + 'density/filtering_bowtie/alignments/tRNA/',\n",
    "    'path_rrna'         : inpath  + 'density/filtering_bowtie/alignments/rRNA/',\n",
    "    'path_chr'          : inpath  + 'density/filtering_bowtie/alignments/chr/',\n",
    "    'path_temp'         : inpath  + 'density/filtering_bowtie/tmpds/',\n",
    "    'path_density'      : inpath  + 'density/density/',\n",
    "    'path_log'          : inpath  + 'density/logs/',\n",
    "    'path_analysis_log' : inpath  + 'analysis/logs/',\n",
    "    'path_analysis'     : inpath  + 'analysis/individual/',\n",
    "    'path_figures'      : inpath  + 'figures/',\n",
    "    }\n",
    "\n",
    "gff_settings = {\n",
    "    'path_out'         : 0,\n",
    "    'feat_of_interest' : 'protein_coding',         #all, protein_coding, tRNA, rRNA\n",
    "    'name_qual'        : 'Name',\n",
    "    'name_qual_alt'    : 'gene_id',\n",
    "    'biotype_qual'     : 'protein_coding',          #if biotype qualifier NA, biotype_qual = 'all'\n",
    "    'aSD_seq'          : 'TCCTCC'\n",
    "    }\n",
    "\n",
    "# Modify FASTQ files downloaded from server, renaming and concatonating if necessary\n",
    "#ribo_util.rename_FASTQ(inputs, library_creator, paths_in, paths_out)\n",
    "\n",
    "# Check inputs, create output paths, and make gff dictionary if needed\n",
    "step = 'density'\n",
    "ribo_util.check_inputs(inputs, paths_in, step)\n",
    "ribo_util.createpath(inputs, paths_out)\n",
    "\n",
    "#ribo_util.GFF_to_dict(paths_in, gff_settings)"
   ]
  },
  {
   "cell_type": "code",
   "execution_count": 2,
   "metadata": {
    "scrolled": false
   },
   "outputs": [
    {
     "name": "stdout",
     "output_type": "stream",
     "text": [
      "ERROR: DG1 has not been filtered, change run setting\n",
      "-----FILTER-----\n",
      "\n",
      "Files to filter: DG1\n",
      "Filter parameters are: \n",
      "min length = 10 \n",
      "max length = 40 \n",
      "phred cutoff = 10 \n",
      "\n",
      "\tStarted filtering at 2020-02-24 23:37:08.824702\n",
      "\tFinished filtering at 2020-02-24 23:37:08.824754\n",
      "\tCOMPLETED FILTERING\n",
      "DG1 has been aligned\n",
      "\n",
      "------ALIGN------\n",
      "\n",
      "Files to align: DG1\n",
      "\n",
      "\tStarted Bowtie alignment at 2020-02-24 23:37:08.825170\n",
      "\tFinished ladder removal at 2020-02-24 23:37:08.825215\n",
      "\tFinished tRNA removal at 2020-02-24 23:37:08.825626\n",
      "\tFinished rRNA removal at 2020-02-24 23:37:08.825693\n",
      "\tFinished chromosome alignment at 2020-02-24 23:37:08.825747\n",
      "\tCOMPLETED ALIGNING\n",
      "\n",
      "-----DENSITY-----\n",
      "\n",
      "Files to condense: DG1\n",
      "\n",
      "\tStarted density at 2020-02-24 23:37:08.827025\n",
      "\tFinished density at 2020-02-24 23:38:11.345759\n",
      "\tCOMPLETED DENSITY\n",
      "ERROR:DG1 has not been aligned\n"
     ]
    }
   ],
   "source": [
    "filterreads = ribo_main.run_filter(inputs, paths_in, paths_out)\n",
    "bowtiereads = ribo_main.run_align(inputs, paths_in, paths_out)\n",
    "densityreads = ribo_main.run_density(inputs, paths_in, paths_out)\n",
    "analyzereads = ribo_analysis.readQC(inputs, paths_in, paths_out)"
   ]
  },
  {
   "cell_type": "code",
   "execution_count": 3,
   "metadata": {},
   "outputs": [
    {
     "ename": "IOError",
     "evalue": "[Errno 2] No such file or directory: '/Volumes/Diego_2TB/ribosome_profiling_final_libs/libraries/H98_WT_ctrl/reads/density/logs/DG1_filter'",
     "output_type": "error",
     "traceback": [
      "\u001b[0;31m---------------------------------------------------------------------------\u001b[0m",
      "\u001b[0;31mIOError\u001b[0m                                   Traceback (most recent call last)",
      "\u001b[0;32m<ipython-input-3-16dcde3add54>\u001b[0m in \u001b[0;36m<module>\u001b[0;34m()\u001b[0m\n\u001b[0;32m----> 1\u001b[0;31m \u001b[0mlog_data\u001b[0m \u001b[0;34m=\u001b[0m \u001b[0mribo_util\u001b[0m\u001b[0;34m.\u001b[0m\u001b[0mget_filter_bowtie_log\u001b[0m\u001b[0;34m(\u001b[0m\u001b[0minputs\u001b[0m\u001b[0;34m,\u001b[0m \u001b[0mpaths_in\u001b[0m\u001b[0;34m,\u001b[0m \u001b[0mpaths_out\u001b[0m\u001b[0;34m)\u001b[0m\u001b[0;34m\u001b[0m\u001b[0m\n\u001b[0m\u001b[1;32m      2\u001b[0m \u001b[0mribo_plot\u001b[0m\u001b[0;34m.\u001b[0m\u001b[0mplot_alignment_allocation\u001b[0m\u001b[0;34m(\u001b[0m\u001b[0minputs\u001b[0m\u001b[0;34m,\u001b[0m \u001b[0mpaths_in\u001b[0m\u001b[0;34m,\u001b[0m \u001b[0mpaths_out\u001b[0m\u001b[0;34m)\u001b[0m\u001b[0;34m\u001b[0m\u001b[0m\n",
      "\u001b[0;32m/Users/DRG/Desktop/Ribsome_profiling_final_libs/ribo_util.pyc\u001b[0m in \u001b[0;36mget_filter_bowtie_log\u001b[0;34m(inputs, paths_in, paths_out)\u001b[0m\n\u001b[1;32m    333\u001b[0m \u001b[0;34m\u001b[0m\u001b[0m\n\u001b[1;32m    334\u001b[0m         \u001b[0;32mfor\u001b[0m \u001b[0mprocess\u001b[0m \u001b[0;32min\u001b[0m \u001b[0;34m[\u001b[0m\u001b[0;34m'_filter'\u001b[0m\u001b[0;34m,\u001b[0m \u001b[0;34m'_bowtie'\u001b[0m\u001b[0;34m]\u001b[0m\u001b[0;34m:\u001b[0m\u001b[0;34m\u001b[0m\u001b[0m\n\u001b[0;32m--> 335\u001b[0;31m             \u001b[0mf\u001b[0m \u001b[0;34m=\u001b[0m \u001b[0mopen\u001b[0m\u001b[0;34m(\u001b[0m\u001b[0mpaths_out\u001b[0m\u001b[0;34m[\u001b[0m\u001b[0;34m'path_log'\u001b[0m\u001b[0;34m]\u001b[0m \u001b[0;34m+\u001b[0m \u001b[0mfname\u001b[0m \u001b[0;34m+\u001b[0m \u001b[0mprocess\u001b[0m\u001b[0;34m)\u001b[0m\u001b[0;34m\u001b[0m\u001b[0m\n\u001b[0m\u001b[1;32m    336\u001b[0m \u001b[0;34m\u001b[0m\u001b[0m\n\u001b[1;32m    337\u001b[0m             \u001b[0;31m#bowtie_data contains log info for each file\u001b[0m\u001b[0;34m\u001b[0m\u001b[0;34m\u001b[0m\u001b[0m\n",
      "\u001b[0;31mIOError\u001b[0m: [Errno 2] No such file or directory: '/Volumes/Diego_2TB/ribosome_profiling_final_libs/libraries/H98_WT_ctrl/reads/density/logs/DG1_filter'"
     ]
    }
   ],
   "source": [
    "log_data = ribo_util.get_filter_bowtie_log(inputs, paths_in, paths_out)\n",
    "ribo_plot.plot_alignment_allocation(inputs, paths_in, paths_out)"
   ]
  },
  {
   "cell_type": "code",
   "execution_count": null,
   "metadata": {},
   "outputs": [],
   "source": [
    "read_size_distribution = ribo_plot.size_dist(inputs, paths_in, paths_out)"
   ]
  },
  {
   "cell_type": "code",
   "execution_count": null,
   "metadata": {},
   "outputs": [],
   "source": [
    "read_composition = ribo_plot.read_comp(inputs, paths_in, paths_out)"
   ]
  },
  {
   "cell_type": "code",
   "execution_count": null,
   "metadata": {},
   "outputs": [],
   "source": []
  },
  {
   "cell_type": "code",
   "execution_count": null,
   "metadata": {},
   "outputs": [],
   "source": []
  },
  {
   "cell_type": "code",
   "execution_count": null,
   "metadata": {},
   "outputs": [],
   "source": []
  },
  {
   "cell_type": "code",
   "execution_count": null,
   "metadata": {},
   "outputs": [],
   "source": []
  },
  {
   "cell_type": "code",
   "execution_count": null,
   "metadata": {},
   "outputs": [],
   "source": []
  },
  {
   "cell_type": "code",
   "execution_count": null,
   "metadata": {},
   "outputs": [],
   "source": []
  },
  {
   "cell_type": "code",
   "execution_count": null,
   "metadata": {},
   "outputs": [],
   "source": []
  },
  {
   "cell_type": "code",
   "execution_count": null,
   "metadata": {},
   "outputs": [],
   "source": []
  }
 ],
 "metadata": {
  "kernelspec": {
   "display_name": "Python 2",
   "language": "python",
   "name": "python2"
  },
  "language_info": {
   "codemirror_mode": {
    "name": "ipython",
    "version": 2
   },
   "file_extension": ".py",
   "mimetype": "text/x-python",
   "name": "python",
   "nbconvert_exporter": "python",
   "pygments_lexer": "ipython2",
   "version": "2.7.15"
  }
 },
 "nbformat": 4,
 "nbformat_minor": 2
}
